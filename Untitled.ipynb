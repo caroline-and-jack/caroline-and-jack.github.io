{
 "cells": [
  {
   "cell_type": "code",
   "execution_count": 1,
   "id": "6af8e605-c2b9-47b4-be9e-3fc850fcf5f4",
   "metadata": {},
   "outputs": [
    {
     "name": "stdout",
     "output_type": "stream",
     "text": [
      "Requirement already satisfied: pillow in /opt/anaconda3/lib/python3.11/site-packages (10.2.0)\n",
      "Note: you may need to restart the kernel to use updated packages.\n"
     ]
    }
   ],
   "source": [
    "pip install pillow\n"
   ]
  },
  {
   "cell_type": "code",
   "execution_count": 2,
   "id": "e49b6814-1986-4332-af85-dd9267846a9c",
   "metadata": {},
   "outputs": [
    {
     "name": "stdout",
     "output_type": "stream",
     "text": [
      "Processed cj8.png\n",
      "Processed invite.png\n",
      "Processed header.png\n",
      "Processed footer.png\n",
      "Processed cj2.png\n",
      "Processed cj3.png\n",
      "Processed cj1.png\n",
      "Processed cj4.png\n",
      "Processed cj5.png\n",
      "Processed cj7.png\n",
      "Processed cj6.png\n"
     ]
    }
   ],
   "source": [
    "from PIL import Image, ImageOps\n",
    "import os\n",
    "\n",
    "# Directory where the images are stored\n",
    "input_dir = \"assets/\"  # Path to your input images\n",
    "output_dir = \"output/\"  # Path to store processed images\n",
    "\n",
    "# Ensure output directory exists\n",
    "os.makedirs(output_dir, exist_ok=True)\n",
    "\n",
    "def process_image(image_path, output_path):\n",
    "    with Image.open(image_path) as img:\n",
    "        # Resize the image to a height of 500px, maintaining aspect ratio\n",
    "        aspect_ratio = img.width / img.height\n",
    "        new_width = int(500 * aspect_ratio)\n",
    "        img = img.resize((new_width, 500))\n",
    "\n",
    "        # Check if the image is wider than 600px\n",
    "        if img.width > 600:\n",
    "            # Crop the image to 600px width (centered)\n",
    "            left = (img.width - 600) / 2\n",
    "            top = 0\n",
    "            right = left + 600\n",
    "            bottom = 500\n",
    "            img = img.crop((left, top, right, bottom))\n",
    "        \n",
    "        # If the image is narrower than 600px, add transparent padding to make it 600px wide\n",
    "        elif img.width < 600:\n",
    "            # Add transparent padding to the left and right\n",
    "            padding_left = (600 - img.width) // 2\n",
    "            padding_right = 600 - img.width - padding_left\n",
    "            img = ImageOps.expand(img, (padding_left, 0, padding_right, 0), (255, 255, 255, 0))\n",
    "\n",
    "        # Save the processed image\n",
    "        img.save(output_path)\n",
    "\n",
    "# Process all images in the input directory\n",
    "for filename in os.listdir(input_dir):\n",
    "    if filename.endswith((\".png\", \".jpg\", \".jpeg\")):  # Process only image files\n",
    "        input_path = os.path.join(input_dir, filename)\n",
    "        output_path = os.path.join(output_dir, filename)\n",
    "        process_image(input_path, output_path)\n",
    "        print(f\"Processed {filename}\")\n"
   ]
  },
  {
   "cell_type": "code",
   "execution_count": null,
   "id": "de4a6ca0-ccb9-4d7a-a13d-1120dd437470",
   "metadata": {},
   "outputs": [],
   "source": []
  }
 ],
 "metadata": {
  "kernelspec": {
   "display_name": "Python 3 (ipykernel)",
   "language": "python",
   "name": "python3"
  },
  "language_info": {
   "codemirror_mode": {
    "name": "ipython",
    "version": 3
   },
   "file_extension": ".py",
   "mimetype": "text/x-python",
   "name": "python",
   "nbconvert_exporter": "python",
   "pygments_lexer": "ipython3",
   "version": "3.11.8"
  }
 },
 "nbformat": 4,
 "nbformat_minor": 5
}
